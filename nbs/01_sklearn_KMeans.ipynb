{
 "cells": [
  {
   "cell_type": "markdown",
   "id": "30544a58-23bb-4284-8b82-b923a225006b",
   "metadata": {},
   "source": [
    "### K-means clustering"
   ]
  },
  {
   "cell_type": "code",
   "execution_count": 103,
   "id": "3a19cf26-3764-4027-ad44-a63472ec2ab1",
   "metadata": {},
   "outputs": [],
   "source": [
    "import os\n",
    "from pathlib import Path\n",
    "from glob import glob\n",
    "import numpy as np\n",
    "import matplotlib.pyplot as plt\n",
    "from sklearn.cluster import KMeans,DBSCAN\n",
    "import nibabel as nib\n",
    "from PIL import Image"
   ]
  },
  {
   "cell_type": "code",
   "execution_count": 104,
   "id": "e65855b9-08b3-493e-92ef-9572532b66be",
   "metadata": {},
   "outputs": [],
   "source": [
    "NB_DIR = Path.cwd()\n",
    "DATA_DIR = NB_DIR/'..'/'data'"
   ]
  },
  {
   "cell_type": "code",
   "execution_count": 105,
   "id": "3f455f4f-3cbc-43c6-9006-275098f16831",
   "metadata": {},
   "outputs": [],
   "source": [
    "img_list = sorted(glob(str(DATA_DIR/'2d_imgs'/'*')),key=os.path.getmtime)"
   ]
  },
  {
   "cell_type": "code",
   "execution_count": 106,
   "id": "ee7b6a2d-a5eb-47b2-b73b-e48595a9cab0",
   "metadata": {},
   "outputs": [],
   "source": [
    "#Source: Instruments & Data Tools\n",
    "#Inspired from the Vector Quantization Example\n",
    "#https://www.idtools.com.au/segmentation-k-means-python/\n",
    "from sklearn import cluster\n",
    "from skimage import io\n",
    "import numpy as np\n",
    "import matplotlib.pyplot as plt\n",
    "from skimage.measure import label   \n",
    "from skimage.morphology import remove_small_objects\n",
    "def km_clust(array, n_clusters):\n",
    "    \n",
    "    # Create a line array, the lazy way\n",
    "    X = array.reshape((-1, 1))\n",
    "    # Define the k-means clustering problem\n",
    "    k_m = cluster.KMeans(n_clusters=n_clusters, random_state=37, n_init=8) #,n_init=4)\n",
    "    # Solve the k-means clustering problem\n",
    "    k_m.fit(X)\n",
    "    # Get the coordinates of the clusters centres as a 1D array\n",
    "    values = k_m.cluster_centers_.squeeze()\n",
    "    # Get the label of each point\n",
    "    labels = k_m.labels_\n",
    "    return(values, labels)"
   ]
  },
  {
   "cell_type": "code",
   "execution_count": 170,
   "id": "a9abf7f8-ba90-476c-a28b-fceccb734734",
   "metadata": {},
   "outputs": [],
   "source": [
    "pred_list = []\n",
    "for fn in img_list: \n",
    "    img = io.imread(fn,as_gray=True)\n",
    "    img_flat = img.reshape((-1, 1))\n",
    "\n",
    "    # Group similar grey levels using 8 clusters\n",
    "    values, labels = km_clust(img, n_clusters = 2)\n",
    "    values = [*range(len(values))]\n",
    "    # Create the segmented array from labels and values\n",
    "    img_segm = np.choose(labels, values)\n",
    "    # Reshape the array as the original image\n",
    "    img_segm.shape = img.shape\n",
    "        \n",
    "    pred_list.append(np.array(img_segm));"
   ]
  },
  {
   "cell_type": "code",
   "execution_count": 171,
   "id": "e016abe8-6185-4a0f-bf0b-93325b053369",
   "metadata": {},
   "outputs": [
    {
     "data": {
      "text/plain": [
       "(256, 256, 128)"
      ]
     },
     "execution_count": 171,
     "metadata": {},
     "output_type": "execute_result"
    }
   ],
   "source": [
    "pred_mask = np.dstack(pred_list).astype(dtype=np.int16)\n",
    "pred_mask.shape"
   ]
  },
  {
   "cell_type": "code",
   "execution_count": 188,
   "id": "a7aab357-3023-4b49-be9f-22f730844e80",
   "metadata": {},
   "outputs": [],
   "source": [
    "img_data = nib.load(DATA_DIR/'kiwi_20050217191129_131073_RARE_high_res_axial.nii.gz')#.get_fdata()"
   ]
  },
  {
   "cell_type": "code",
   "execution_count": 189,
   "id": "b7b9f443-e939-44c7-9b7f-c02974063968",
   "metadata": {},
   "outputs": [],
   "source": [
    "pred_nii_mask = nib.Nifti1Image(pred_mask, affine=img_data.affine)"
   ]
  },
  {
   "cell_type": "code",
   "execution_count": 190,
   "id": "a4e9f70a-adce-40e8-81c3-bc6990683821",
   "metadata": {},
   "outputs": [],
   "source": [
    "nib.save(pred_nii_mask, str(DATA_DIR/'pred_cluster_2_mask.nii.gz'))"
   ]
  }
 ],
 "metadata": {
  "kernelspec": {
   "display_name": "Python (bmed360)",
   "language": "python",
   "name": "bmed360"
  },
  "language_info": {
   "codemirror_mode": {
    "name": "ipython",
    "version": 3
   },
   "file_extension": ".py",
   "mimetype": "text/x-python",
   "name": "python",
   "nbconvert_exporter": "python",
   "pygments_lexer": "ipython3",
   "version": "3.8.5"
  }
 },
 "nbformat": 4,
 "nbformat_minor": 5
}
